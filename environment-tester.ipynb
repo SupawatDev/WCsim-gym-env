{
 "cells": [
  {
   "cell_type": "markdown",
   "metadata": {},
   "source": [
    "# WCsim Env"
   ]
  },
  {
   "cell_type": "markdown",
   "metadata": {},
   "source": [
    "## 1. Import the module"
   ]
  },
  {
   "cell_type": "code",
   "execution_count": 1,
   "metadata": {},
   "outputs": [],
   "source": [
    "from wcscore import WCsimEnvCore\n",
    "import numpy as np\n",
    "import random"
   ]
  },
  {
   "cell_type": "markdown",
   "metadata": {},
   "source": [
    "## 2. Initialize modules"
   ]
  },
  {
   "cell_type": "code",
   "execution_count": 2,
   "metadata": {},
   "outputs": [
    {
     "name": "stdout",
     "output_type": "stream",
     "text": [
      "Server: Hello Client~\u0000\n",
      "Connected to Server successfully.\n",
      "The Simulator is ready.\n"
     ]
    }
   ],
   "source": [
    "env = WCsimEnvCore(server_ip='127.0.0.1', server_port=8877)\n",
    "random.seed(0)"
   ]
  },
  {
   "cell_type": "markdown",
   "metadata": {},
   "source": [
    "## 3. Add a base station"
   ]
  },
  {
   "cell_type": "code",
   "execution_count": 3,
   "metadata": {},
   "outputs": [],
   "source": [
    "env.add_station([0, 7, 0], [0,0,0], 2.4e9)"
   ]
  },
  {
   "cell_type": "markdown",
   "metadata": {},
   "source": [
    "## 4. Environment Setup"
   ]
  },
  {
   "cell_type": "code",
   "execution_count": 6,
   "metadata": {},
   "outputs": [
    {
     "name": "stdout",
     "output_type": "stream",
     "text": [
      "{'id': 20, 'position': [1.0, 1.5, 5.0], 'station': 3, 'path loss': -57.162819}\n",
      "{'id': 21, 'position': [2.0, 1.5, 6.0], 'station': 3, 'path loss': -58.052658}\n",
      "{'id': 22, 'position': [3.0, 1.5, 7.0], 'station': 3, 'path loss': -58.95647}\n",
      "{'id': 23, 'position': [4.0, 1.5, 8.0], 'station': 3, 'path loss': -59.82988}\n",
      "{'id': 24, 'position': [5.0, 1.5, 9.0], 'station': 3, 'path loss': -60.654144}\n",
      "{'id': 25, 'position': [6.0, 1.5, 10.0], 'station': 3, 'path loss': -61.424179}\n",
      "{'id': 26, 'position': [7.0, 1.5, 11.0], 'station': 3, 'path loss': -62.141296}\n",
      "{'id': 27, 'position': [8.0, 1.5, 12.0], 'station': 3, 'path loss': -62.809391}\n",
      "{'id': 28, 'position': [9.0, 1.5, 13.0], 'station': 3, 'path loss': -63.433128}\n",
      "{'id': 29, 'position': [10.0, 1.5, 14.0], 'station': 3, 'path loss': -64.017113}\n",
      "{'id': 3, 'position': [0.0, 7.0, 0.0], 'rotation': [0.0, 0.0, 0.0], 'frequency': 2400000000.0, 'users': [20.0, 21.0, 22.0, 23.0, 24.0, 25.0, 26.0, 27.0, 28.0, 29.0], 'average path loss': -60.848103}\n",
      "-57.46212\n",
      "-64.164078\n",
      "-68.451279\n",
      "-71.005417\n",
      "-73.033218\n",
      "None\n",
      "None\n",
      "-119.047241\n",
      "-119.705795\n",
      "-120.265564\n"
     ]
    }
   ],
   "source": [
    "# Reset the environment\n",
    "env.reset()\n",
    "\n",
    "# Add a station to the environment\n",
    "env.add_station([0, 7, 0], [0,0,0], 2.4e9)\n",
    "stations = env.ask_stations_info()\n",
    "selected_station_id = stations[0] # select the first station\n",
    "\n",
    "# Add users to the environment\n",
    "for i in range(10):\n",
    "    env.add_user([1+i, 1.5, 5+i])\n",
    "# Get user ids from the environment\n",
    "user_ids = env.ask_users_info()\n",
    "\n",
    "# Connect \n",
    "for user_id in user_ids:\n",
    "    env.connect_user_to_station(selected_station_id, user_id)\n",
    "# Check each user status\n",
    "for user_id in user_ids:  \n",
    "    print(env.ask_user_info(user_id))\n",
    "# Check the station status\n",
    "print(env.ask_station_info(selected_station_id))\n",
    "\n",
    "# Move station\n",
    "selected_station = env.ask_station_info(selected_station_id)\n",
    "for i in range(10):\n",
    "    station = env.ask_station_info(selected_station_id)\n",
    "    new_position = list(np.array(station['position']) + [10, 0, 10])\n",
    "    new_rotation = [0, 0, 0]\n",
    "    env.move_station_to(station['id'], new_position, new_rotation)\n",
    "    station = env.ask_station_info(selected_station_id)\n",
    "    print(station['average path loss'])\n",
    "env.reset()"
   ]
  },
  {
   "cell_type": "code",
   "execution_count": null,
   "metadata": {},
   "outputs": [],
   "source": [
    "user_ids"
   ]
  },
  {
   "cell_type": "code",
   "execution_count": null,
   "metadata": {},
   "outputs": [],
   "source": [
    "users = env.ask_users_info()\n",
    "users"
   ]
  },
  {
   "cell_type": "code",
   "execution_count": null,
   "metadata": {},
   "outputs": [],
   "source": [
    "bt_info = env.ask_stations_info()\n",
    "bt_list = bt_info.split('&')\n",
    "if int(bt_list[0]) > 0:\n",
    "    stations = list(map(int, bt_list[1].split(',')))"
   ]
  },
  {
   "cell_type": "code",
   "execution_count": null,
   "metadata": {},
   "outputs": [],
   "source": [
    "l = [1,2, 3]\n",
    "l = np.array(l) + [2,3,1]\n",
    "l"
   ]
  },
  {
   "cell_type": "code",
   "execution_count": null,
   "metadata": {},
   "outputs": [],
   "source": [
    "stations"
   ]
  },
  {
   "cell_type": "code",
   "execution_count": null,
   "metadata": {},
   "outputs": [],
   "source": [
    "env.ask_station_info(stations[0])"
   ]
  },
  {
   "cell_type": "code",
   "execution_count": null,
   "metadata": {},
   "outputs": [],
   "source": [
    "users"
   ]
  },
  {
   "cell_type": "code",
   "execution_count": null,
   "metadata": {},
   "outputs": [],
   "source": [
    "env.connect_user_to_station(stations[0], users[0])"
   ]
  },
  {
   "cell_type": "code",
   "execution_count": null,
   "metadata": {},
   "outputs": [],
   "source": [
    "env.reset()"
   ]
  },
  {
   "cell_type": "code",
   "execution_count": 7,
   "metadata": {},
   "outputs": [],
   "source": [
    "env.disconnect()"
   ]
  },
  {
   "cell_type": "code",
   "execution_count": null,
   "metadata": {},
   "outputs": [],
   "source": []
  },
  {
   "cell_type": "code",
   "execution_count": null,
   "metadata": {},
   "outputs": [],
   "source": []
  }
 ],
 "metadata": {
  "kernelspec": {
   "display_name": "Python 3",
   "language": "python",
   "name": "python3"
  },
  "language_info": {
   "codemirror_mode": {
    "name": "ipython",
    "version": 3
   },
   "file_extension": ".py",
   "mimetype": "text/x-python",
   "name": "python",
   "nbconvert_exporter": "python",
   "pygments_lexer": "ipython3",
   "version": "3.7.6"
  }
 },
 "nbformat": 4,
 "nbformat_minor": 4
}
