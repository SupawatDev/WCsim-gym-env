{
 "cells": [
  {
   "cell_type": "markdown",
   "metadata": {},
   "source": [
    "## Gradient Descent Model for locating the base station"
   ]
  },
  {
   "cell_type": "code",
   "execution_count": 26,
   "metadata": {},
   "outputs": [],
   "source": [
    "from wcscore import WCsimEnvCore\n",
    "import matplotlib.pyplot as plt\n",
    "\n",
    "import numpy as np"
   ]
  },
  {
   "cell_type": "code",
   "execution_count": 27,
   "metadata": {},
   "outputs": [],
   "source": [
    "np.random.seed(0)"
   ]
  },
  {
   "cell_type": "markdown",
   "metadata": {},
   "source": [
    "## Environment Setup"
   ]
  },
  {
   "cell_type": "code",
   "execution_count": 29,
   "metadata": {},
   "outputs": [
    {
     "name": "stdout",
     "output_type": "stream",
     "text": [
      "Server: Hello Client~\u0000\n",
      "Connected to Server successfully.\n",
      "The Simulator is ready.\n"
     ]
    }
   ],
   "source": [
    "env = WCsimEnvCore(server_ip='127.0.0.1', server_port=8877)"
   ]
  },
  {
   "cell_type": "markdown",
   "metadata": {},
   "source": [
    "## Generate Base Station and Users"
   ]
  },
  {
   "cell_type": "code",
   "execution_count": 30,
   "metadata": {
    "scrolled": true
   },
   "outputs": [
    {
     "name": "stdout",
     "output_type": "stream",
     "text": [
      "[9.762700785464943, 2.430378732744839, 20.552675214328772]\n",
      "[8.976636599379376, 1.8473095986778094, 29.17882261333122]\n",
      "[-12.482557747461499, 2.7835460015641598, 92.73255210020585]\n",
      "[-23.31169623484446, 2.583450076165329, 5.778983950580894]\n",
      "[13.608912218786458, 2.851193276585322, -85.7927883604226]\n",
      "[-82.57414005969186, 1.0404367948806514, 66.5239691095876]\n",
      "[55.63135018997011, 2.7400242964936385, 95.72366844655281]\n",
      "[59.83171284334472, 1.9229587245058637, 56.10583525729109]\n",
      "[-76.34511482621335, 2.279842042655048, -71.32934251819071]\n",
      "[88.93378340991677, 2.0436966435001436, -17.067612001895284]\n",
      "[-47.088877579074605, 2.548467378868433, -8.76993355669029]\n",
      "[13.6867897737297, 1.0375796008727103, 23.527099415175414]\n",
      "[22.419144544484283, 2.233867993749514, 88.74961570292484]\n",
      "[36.364059820696696, 1.719015801147572, -12.593609240131713]\n",
      "[39.526239185452965, 1.1204509432585397, 33.353343089133546]\n",
      "[34.12757392363187, 1.4207651221476818, -74.21474046902934]\n",
      "[-36.91432981516323, 1.7274215418852452, 14.03935408357593]\n",
      "[-12.279697307535926, 2.9767476761184524, -79.59103785039439]\n",
      "[-58.22464878103306, 1.3226190357699925, 30.621665093079685]\n",
      "[-49.341679492043575, 1.9326215457126126, -51.11488159967945]\n",
      "[-68.20608327089606, 1.2207502823286103, 31.265917893054677]\n",
      "[-72.36340973027724, 1.393164723360107, -26.254965867807172]\n",
      "[64.19864596958703, 1.1942025515861225, 67.58898149976079]\n",
      "[-80.78031842120738, 2.9529189300267915, -6.269759670459678]\n",
      "[95.35221763806743, 2.209691039490092, 47.85271587966034]\n",
      "[-92.16244154913586, 1.5656139251528192, -75.96068775736622]\n",
      "[-40.771960495571015, 1.237455437908488, -36.403364121204795]\n",
      "[-17.14740109706601, 1.1282949926975687, 38.49442387400396]\n",
      "[13.320290841315028, 1.5307789818788908, 4.6496106933399375]\n",
      "[-81.21189784831166, 2.1518929911123585, 85.85923951524282]\n",
      "[-36.286209509735265, 2.3348207599273634, -73.64042751912157]\n",
      "[43.26544082371311, 1.5788121858944022, -63.361727598576636]\n",
      "[17.302586962016633, 1.040215092374987, 65.78800584347263]\n",
      "[-99.06090476149059, 2.35563307359246, -45.99840536156703]\n",
      "[47.038804424518986, 2.9243770902348762, -50.24937129600839]\n",
      "[15.231466883567379, 2.184083862543678, 14.450381158174679]\n",
      "[-55.383673471876335, 2.90549802303397, -10.574924276474533]\n",
      "[69.28173449422556, 2.3989585506350086, -40.51260982897327]\n",
      "[62.75956394049544, 1.7930114816939693, 76.22063942223232]\n",
      "[16.25457452717174, 2.7634707237097054, 38.50631801555318]\n",
      "[45.050855963928115, 2.0026487638534043, 91.21672694464479]\n",
      "[28.79803984592749, 1.8477100971163594, 21.278642825584868]\n",
      "[-96.16136033813329, 1.6031496333490987, 32.03470749853702]\n",
      "[-41.98447855791119, 2.236030857997683, -14.246259810846766]\n",
      "[-72.90518715550995, 1.5965646519120615, 13.992982140252977]\n",
      "[18.174552249634644, 2.1486504976991574, 30.640163971426716]\n",
      "[30.420654000337777, 1.862836870867948, 79.3093191702126]\n",
      "[-26.487625990420696, 1.8717298505312536, 78.38467100313443]\n",
      "[61.23879780921715, 2.4077771670807326, -79.95462253753978]\n",
      "[83.8965227489347, 2.428482599098223, 99.7694013135733]\n"
     ]
    }
   ],
   "source": [
    "env.reset()\n",
    "\n",
    "# Add a station\n",
    "env.add_station([0, 7, 0], [0,0,0], 2.4e9)\n",
    "stations = env.ask_stations_info()\n",
    "station_id = stations[0] \n",
    "\n",
    "# Add Users\n",
    "n_user = 50\n",
    "for i in range(n_user):\n",
    "    random_position = list(np.multiply(np.random.rand(3), [200, 2, 200]) + [-100, 1, -100])\n",
    "    print(random_position)\n",
    "    env.add_user(random_position)\n",
    "    \n",
    "# Get list of users\n",
    "user_ids = env.ask_users_info()\n",
    "\n",
    "# Check the station status\n",
    "for user_id in user_ids:\n",
    "    env.connect_user_to_station(station_id, user_id)"
   ]
  },
  {
   "cell_type": "code",
   "execution_count": 31,
   "metadata": {},
   "outputs": [
    {
     "name": "stdout",
     "output_type": "stream",
     "text": [
      "{'id': 0, 'position': [9.762701, 2.430379, 20.552675], 'station': 0, 'path loss': -66.082077}\n",
      "{'id': 1, 'position': [8.976637, 1.84731, 29.178823], 'station': 0, 'path loss': -68.262436}\n",
      "{'id': 2, 'position': [-12.482558, 2.783546, 92.732552], 'station': 0, 'path loss': -118.230667}\n",
      "{'id': 3, 'position': [-23.311695, 2.58345, 5.778984], 'station': 0, 'path loss': -66.456558}\n",
      "{'id': 4, 'position': [13.608912, 2.851193, -85.792786], 'station': 0, 'path loss': None}\n",
      "{'id': 5, 'position': [-82.574142, 1.040437, 66.523972], 'station': 0, 'path loss': -115.440071}\n",
      "{'id': 6, 'position': [55.631351, 2.740024, 95.723671], 'station': 0, 'path loss': -78.704758}\n",
      "{'id': 7, 'position': [59.831715, 1.922959, 56.105835], 'station': 0, 'path loss': None}\n",
      "{'id': 8, 'position': [-76.345116, 2.279842, -71.329346], 'station': 0, 'path loss': None}\n",
      "{'id': 9, 'position': [88.933784, 2.043697, -17.067612], 'station': 0, 'path loss': -115.271416}\n",
      "{'id': 10, 'position': [-47.088879, 2.548467, -8.769934], 'station': 0, 'path loss': -71.300476}\n",
      "{'id': 11, 'position': [13.68679, 1.03758, 23.5271], 'station': 0, 'path loss': -67.338196}\n",
      "{'id': 12, 'position': [22.419146, 2.233868, 88.749619], 'station': 0, 'path loss': -76.813759}\n",
      "{'id': 13, 'position': [36.364059, 1.719016, -12.593609], 'station': 0, 'path loss': None}\n",
      "{'id': 14, 'position': [39.526237, 1.120451, 33.353344], 'station': 0, 'path loss': -72.28656}\n",
      "{'id': 15, 'position': [34.127575, 1.420765, -74.214737], 'station': 0, 'path loss': -83.915543}\n",
      "{'id': 16, 'position': [-36.91433, 1.727422, 14.039354], 'station': 0, 'path loss': -69.93026}\n",
      "{'id': 17, 'position': [-12.279697, 2.976748, -79.591042], 'station': 0, 'path loss': -75.200897}\n",
      "{'id': 18, 'position': [-58.224648, 1.322619, 30.621664], 'station': 0, 'path loss': None}\n",
      "{'id': 19, 'position': [-49.341679, 1.932622, -51.114883], 'station': 0, 'path loss': -88.902985}\n",
      "{'id': 20, 'position': [-68.206085, 1.22075, 31.265919], 'station': 0, 'path loss': None}\n",
      "{'id': 21, 'position': [-72.363411, 1.393165, -26.254967], 'station': 0, 'path loss': None}\n",
      "{'id': 22, 'position': [64.198647, 1.194203, 67.588982], 'station': 0, 'path loss': None}\n",
      "{'id': 23, 'position': [-80.780319, 2.952919, -6.26976], 'station': 0, 'path loss': None}\n",
      "{'id': 24, 'position': [95.352219, 2.209691, 47.852715], 'station': 0, 'path loss': -119.236847}\n",
      "{'id': 25, 'position': [-92.162445, 1.565614, -75.960686], 'station': 0, 'path loss': None}\n",
      "{'id': 26, 'position': [-40.771961, 1.237455, -36.403362], 'station': 0, 'path loss': None}\n",
      "{'id': 27, 'position': [-17.147402, 1.128295, 38.494423], 'station': 0, 'path loss': -70.255295}\n",
      "{'id': 28, 'position': [13.320291, 1.530779, 4.649611], 'station': 0, 'path loss': -62.660374}\n",
      "{'id': 29, 'position': [-81.211899, 2.151893, 85.859238], 'station': 0, 'path loss': -119.123108}\n",
      "{'id': 30, 'position': [-36.286209, 2.334821, -73.640427], 'station': 0, 'path loss': None}\n",
      "{'id': 31, 'position': [43.265442, 1.578812, -63.361729], 'station': 0, 'path loss': -75.614044}\n",
      "{'id': 32, 'position': [17.302588, 1.040215, 65.78801], 'station': 0, 'path loss': -74.297165}\n",
      "{'id': 33, 'position': [-99.060905, 2.355633, -45.998405], 'station': 0, 'path loss': -119.960564}\n",
      "{'id': 34, 'position': [47.038803, 2.924377, -50.249371], 'station': 0, 'path loss': None}\n",
      "{'id': 35, 'position': [15.231467, 2.184084, 14.450381], 'station': 0, 'path loss': -65.476616}\n",
      "{'id': 36, 'position': [-55.383675, 2.905498, -10.574924], 'station': 0, 'path loss': -72.997955}\n",
      "{'id': 37, 'position': [69.281731, 2.398959, -40.512611], 'station': 0, 'path loss': -117.091583}\n",
      "{'id': 38, 'position': [62.759563, 1.793011, 76.220642], 'station': 0, 'path loss': None}\n",
      "{'id': 39, 'position': [16.254576, 2.763471, 38.506317], 'station': 0, 'path loss': -70.687073}\n",
      "{'id': 40, 'position': [45.050858, 2.002649, 91.216728], 'station': 0, 'path loss': -77.974274}\n",
      "{'id': 41, 'position': [28.79804, 1.84771, 21.278643], 'station': 0, 'path loss': -69.494499}\n",
      "{'id': 42, 'position': [-96.161362, 1.60315, 32.034706], 'station': 0, 'path loss': -93.087891}\n",
      "{'id': 43, 'position': [-41.984478, 2.236031, -14.24626], 'station': 0, 'path loss': -70.646935}\n",
      "{'id': 44, 'position': [-72.90519, 1.596565, 13.992982], 'station': 0, 'path loss': -73.62484}\n",
      "{'id': 45, 'position': [18.174553, 2.14865, 30.640163], 'station': 0, 'path loss': -69.474442}\n",
      "{'id': 46, 'position': [30.420654, 1.862837, 79.309319], 'station': 0, 'path loss': -76.156799}\n",
      "{'id': 47, 'position': [-26.487625, 1.87173, 78.384674], 'station': 0, 'path loss': -116.288116}\n",
      "{'id': 48, 'position': [61.238796, 2.407777, -79.95462], 'station': 0, 'path loss': -77.903427}\n",
      "{'id': 49, 'position': [83.896523, 2.428483, 99.769402], 'station': 0, 'path loss': -120.775635}\n"
     ]
    }
   ],
   "source": [
    "for user_id in user_ids:\n",
    "    print(env.ask_user_info(user_id))"
   ]
  },
  {
   "cell_type": "code",
   "execution_count": 32,
   "metadata": {},
   "outputs": [
    {
     "name": "stdout",
     "output_type": "stream",
     "text": [
      "-83.164352\n",
      "-83.158005\n",
      "-83.142426\n",
      "-83.125359\n",
      "-83.101654\n",
      "-83.126434\n"
     ]
    }
   ],
   "source": [
    "# MVP for first model\n",
    "itr = 100\n",
    "step_rate = 1\n",
    "ep = 0.001\n",
    "avg_pl_list = [env.ask_station_info(station_id)['average path loss']]\n",
    "x_list = [env.ask_station_info(station_id)['position'][0]]\n",
    "z_list = [env.ask_station_info(station_id)['position'][2]]\n",
    "for i in range(itr):\n",
    "    station = env.ask_station_info(station_id)\n",
    "    position = station['position']\n",
    "    rotation = station['rotation']\n",
    "    pos_x_plus_ep = list(np.array(position) + [ep, 0, 0])\n",
    "    pot_x_min_ep = list(np.array(position) - [ep, 0, 0])\n",
    "    pos_z_plus_ep = list(np.array(position) + [0, 0, ep])\n",
    "    pot_z_min_ep = list(np.array(position) - [0, 0, ep])\n",
    "    # f_x_plus\n",
    "    env.move_station_to(station_id, pos_x_plus_ep, rotation)\n",
    "    x_plus_ep_pl =  env.ask_station_info(station_id)['average path loss']\n",
    "    if x_plus_ep_pl == None:\n",
    "        x_plus_ep_pl = -500\n",
    "    # f_x_min\n",
    "    env.move_station_to(station_id, pot_x_min_ep, rotation)\n",
    "    x_min_ep_pl =  env.ask_station_info(station_id)['average path loss']\n",
    "    if x_min_ep_pl == None:\n",
    "        x_min_ep_pl = -500\n",
    "    \n",
    "    # f_x_plus\n",
    "    env.move_station_to(station_id, pos_z_plus_ep, rotation)\n",
    "    z_plus_ep_pl =  env.ask_station_info(station_id)['average path loss']\n",
    "    if z_plus_ep_pl == None:\n",
    "        z_plus_ep_pl = -500\n",
    "    # f_z_min\n",
    "    env.move_station_to(station_id, pot_z_min_ep, rotation)\n",
    "    z_min_ep_pl =  env.ask_station_info(station_id)['average path loss']\n",
    "    if z_min_ep_pl == None:\n",
    "        z_min_ep_pl = -500\n",
    "    \n",
    "    # Calculate dx\n",
    "    dx = (x_plus_ep_pl - x_min_ep_pl)/(2*ep)\n",
    "    dz = (z_plus_ep_pl - z_min_ep_pl)/(2*ep)\n",
    "    if np.round(dx, 10) == 0:\n",
    "        break\n",
    "    if np.round(dz, 10) == 0:\n",
    "        break\n",
    "    # update position + because step up to local max since pl are minus\n",
    "    position = list(np.array(position) + [dx*step_rate, 0, dz*step_rate])\n",
    "    env.move_station_to(station_id, position, rotation)\n",
    "    improved_pl =  env.ask_station_info(station_id)['average path loss']\n",
    "    avg_pl_list.append(improved_pl)\n",
    "    x_list.append(env.ask_station_info(station_id)['position'][0])\n",
    "    z_list.append(env.ask_station_info(station_id)['position'][2])\n",
    "    print(improved_pl)"
   ]
  },
  {
   "cell_type": "code",
   "execution_count": 33,
   "metadata": {},
   "outputs": [
    {
     "data": {
      "text/plain": [
       "[<matplotlib.lines.Line2D at 0x29aeaf8fb48>]"
      ]
     },
     "execution_count": 33,
     "metadata": {},
     "output_type": "execute_result"
    },
    {
     "data": {
      "image/png": "[encoded data removed]",
      "text/plain": [
       "<Figure size 432x288 with 1 Axes>"
      ]
     },
     "metadata": {
      "needs_background": "light"
     },
     "output_type": "display_data"
    }
   ],
   "source": [
    "plt.plot(avg_pl_list)"
   ]
  },
  {
   "cell_type": "code",
   "execution_count": 37,
   "metadata": {},
   "outputs": [
    {
     "ename": "NameError",
     "evalue": "name 'x_row' is not defined",
     "output_type": "error",
     "traceback": [
      "\u001b[1;31m---------------------------------------------------------------------------\u001b[0m",
      "\u001b[1;31mNameError\u001b[0m                                 Traceback (most recent call last)",
      "\u001b[1;32m<ipython-input-37-8f0f4fdf6915>\u001b[0m in \u001b[0;36m<module>\u001b[1;34m\u001b[0m\n\u001b[0;32m     11\u001b[0m             \u001b[0mavg_pl\u001b[0m \u001b[1;33m=\u001b[0m \u001b[1;33m-\u001b[0m\u001b[1;36m500\u001b[0m\u001b[1;33m\u001b[0m\u001b[1;33m\u001b[0m\u001b[0m\n\u001b[0;32m     12\u001b[0m         \u001b[0mz_row\u001b[0m\u001b[1;33m.\u001b[0m\u001b[0mappend\u001b[0m\u001b[1;33m(\u001b[0m\u001b[0mavg_pl\u001b[0m\u001b[1;33m)\u001b[0m\u001b[1;33m\u001b[0m\u001b[1;33m\u001b[0m\u001b[0m\n\u001b[1;32m---> 13\u001b[1;33m     \u001b[0mheat_map\u001b[0m\u001b[1;33m.\u001b[0m\u001b[0mappend\u001b[0m\u001b[1;33m(\u001b[0m\u001b[0mx_row\u001b[0m\u001b[1;33m)\u001b[0m\u001b[1;33m\u001b[0m\u001b[1;33m\u001b[0m\u001b[0m\n\u001b[0m\u001b[0;32m     14\u001b[0m \u001b[1;33m\u001b[0m\u001b[0m\n\u001b[0;32m     15\u001b[0m \u001b[0mplt\u001b[0m\u001b[1;33m.\u001b[0m\u001b[0mimshow\u001b[0m\u001b[1;33m(\u001b[0m\u001b[0mheat_map\u001b[0m\u001b[1;33m,\u001b[0m \u001b[0mcmap\u001b[0m\u001b[1;33m=\u001b[0m\u001b[1;34m'hot'\u001b[0m\u001b[1;33m,\u001b[0m \u001b[0minterpolation\u001b[0m\u001b[1;33m=\u001b[0m\u001b[1;34m'nearest'\u001b[0m\u001b[1;33m)\u001b[0m\u001b[1;33m\u001b[0m\u001b[1;33m\u001b[0m\u001b[0m\n",
      "\u001b[1;31mNameError\u001b[0m: name 'x_row' is not defined"
     ]
    }
   ],
   "source": [
    "station_id = stations[0]\n",
    "heat_map = []\n",
    "\n",
    "for x in range(-10,10):\n",
    "    z_row = []\n",
    "    for z in range(-10, 10):\n",
    "        position = [x, 7, z]\n",
    "        env.move_station_to(station_id, position, [0, 0, 0])\n",
    "        avg_pl = env.ask_station_info(station_id)['average path loss']\n",
    "        if avg_pl is None:\n",
    "            avg_pl = -500\n",
    "        z_row.append(avg_pl)\n",
    "    heat_map.append(x_row)\n",
    "    \n",
    "plt.imshow(heat_map, cmap='hot', interpolation='nearest')\n",
    "plt.show()"
   ]
  },
  {
   "cell_type": "code",
   "execution_count": 34,
   "metadata": {},
   "outputs": [
    {
     "data": {
      "text/plain": [
       "[<matplotlib.lines.Line2D at 0x29aeaff98c8>]"
      ]
     },
     "execution_count": 34,
     "metadata": {},
     "output_type": "execute_result"
    },
    {
     "data": {
      "image/png": "[encoded data removed]",
      "text/plain": [
       "<Figure size 432x288 with 1 Axes>"
      ]
     },
     "metadata": {
      "needs_background": "light"
     },
     "output_type": "display_data"
    }
   ],
   "source": [
    "plt.plot(x_list[:10], z_list[:10])"
   ]
  },
  {
   "cell_type": "code",
   "execution_count": 35,
   "metadata": {},
   "outputs": [
    {
     "data": {
      "text/plain": [
       "[0.0, 0.105, 0.1625, 0.25875, 0.40125, 0.57375, -0.075]"
      ]
     },
     "execution_count": 35,
     "metadata": {},
     "output_type": "execute_result"
    }
   ],
   "source": [
    "x_list"
   ]
  },
  {
   "cell_type": "code",
   "execution_count": 36,
   "metadata": {},
   "outputs": [
    {
     "data": {
      "text/plain": [
       "[-0.075, 7.0, 7.1215]"
      ]
     },
     "execution_count": 36,
     "metadata": {},
     "output_type": "execute_result"
    }
   ],
   "source": [
    "final_position =  env.ask_station_info(station_id)['position']\n",
    "final_position"
   ]
  },
  {
   "cell_type": "code",
   "execution_count": null,
   "metadata": {},
   "outputs": [],
   "source": [
    "for user_id in user_ids:\n",
    "    print(env.ask_user_info(user_id))"
   ]
  },
  {
   "cell_type": "code",
   "execution_count": null,
   "metadata": {},
   "outputs": [],
   "source": [
    "env.disconnect()"
   ]
  },
  {
   "cell_type": "code",
   "execution_count": null,
   "metadata": {},
   "outputs": [],
   "source": []
  }
 ],
 "metadata": {
  "kernelspec": {
   "display_name": "Python 3",
   "language": "python",
   "name": "python3"
  },
  "language_info": {
   "codemirror_mode": {
    "name": "ipython",
    "version": 3
   },
   "file_extension": ".py",
   "mimetype": "text/x-python",
   "name": "python",
   "nbconvert_exporter": "python",
   "pygments_lexer": "ipython3",
   "version": "3.7.6"
  }
 },
 "nbformat": 4,
 "nbformat_minor": 4
}
